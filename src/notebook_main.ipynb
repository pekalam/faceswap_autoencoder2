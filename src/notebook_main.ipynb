{
 "cells": [
  {
   "cell_type": "code",
   "execution_count": null,
   "metadata": {},
   "outputs": [],
   "source": [
    "from utils.notebook.exp_utils import load_exp_config, pretty_print_cfg"
   ]
  },
  {
   "cell_type": "code",
   "execution_count": null,
   "metadata": {},
   "outputs": [],
   "source": [
    "cfg = load_exp_config(\"master\", \"template\", True)\r\n",
    "pretty_print_cfg(cfg)"
   ]
  },
  {
   "cell_type": "code",
   "execution_count": null,
   "metadata": {},
   "outputs": [],
   "source": [
    "from main import notebook_main\r\n",
    "notebook_main(cfg)"
   ]
  },
  {
   "cell_type": "code",
   "execution_count": null,
   "metadata": {},
   "outputs": [],
   "source": [
    "%%bash\r\n",
    "branch_name=\"\"\r\n",
    "#branch_name=\"$(git branch --show-current)_\"\r\n",
    "tar -zcvf \"../$(branch_name)jupyter-outputs.tar.gz\" ../jupyter-outputs/"
   ]
  }
 ],
 "metadata": {
  "kernelspec": {
   "display_name": "Python 3.8.10 64-bit ('ml1': conda)",
   "name": "python3810jvsc74a57bd0cc7f1bb467c8359b704b12e1769a5f9826984737f9b75d74dac84b81f51ef6b2"
  },
  "language_info": {
   "name": "python",
   "version": ""
  },
  "orig_nbformat": 3
 },
 "nbformat": 4,
 "nbformat_minor": 2
}